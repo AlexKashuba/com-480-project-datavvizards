{
 "cells": [
  {
   "cell_type": "code",
   "execution_count": 70,
   "metadata": {},
   "outputs": [],
   "source": [
    "import pandas as pd\n",
    "import numpy as np"
   ]
  },
  {
   "cell_type": "code",
   "execution_count": 31,
   "metadata": {},
   "outputs": [],
   "source": [
    "spotify_cities = pd.read_csv('cities.csv')\n",
    "countries = pd.read_csv('countries.csv')\n",
    "world_pop = pd.read_csv('worldcitiespop.csv', sep=';')\n",
    "iso3166 = pd.read_csv('iso3166-2.csv', header=None, names=['code', 'human_region'])\n",
    "world_cities = pd.read_csv('worldcities.csv')\n",
    "world_cities2 = pd.read_csv('World_Cities.csv')\n",
    "geonames = pd.read_csv('geonames-all-cities-with-a-population-1000.csv', sep=';')"
   ]
  },
  {
   "cell_type": "code",
   "execution_count": 3,
   "metadata": {},
   "outputs": [],
   "source": [
    "# Removing HK and SG for now\n",
    "spotify_cities = spotify_cities[~spotify_cities.country.isin(['HK', 'SG'])].drop_duplicates()"
   ]
  },
  {
   "cell_type": "code",
   "execution_count": 4,
   "metadata": {},
   "outputs": [],
   "source": [
    "spotify_cities['iso3166'] = spotify_cities['country'] + '-' + spotify_cities['region']"
   ]
  },
  {
   "cell_type": "code",
   "execution_count": 5,
   "metadata": {},
   "outputs": [],
   "source": [
    "spotify_cities = spotify_cities.merge(countries, left_on='country', right_on='Code', how='left')\n",
    "spotify_cities = spotify_cities.merge(iso3166, left_on='iso3166', right_on='code', how='left')"
   ]
  },
  {
   "cell_type": "code",
   "execution_count": 6,
   "metadata": {},
   "outputs": [
    {
     "data": {
      "text/html": [
       "<div>\n",
       "<style scoped>\n",
       "    .dataframe tbody tr th:only-of-type {\n",
       "        vertical-align: middle;\n",
       "    }\n",
       "\n",
       "    .dataframe tbody tr th {\n",
       "        vertical-align: top;\n",
       "    }\n",
       "\n",
       "    .dataframe thead th {\n",
       "        text-align: right;\n",
       "    }\n",
       "</style>\n",
       "<table border=\"1\" class=\"dataframe\">\n",
       "  <thead>\n",
       "    <tr style=\"text-align: right;\">\n",
       "      <th></th>\n",
       "      <th>city</th>\n",
       "      <th>country</th>\n",
       "      <th>region</th>\n",
       "      <th>human_region</th>\n",
       "      <th>human_country</th>\n",
       "    </tr>\n",
       "  </thead>\n",
       "  <tbody>\n",
       "    <tr>\n",
       "      <th>0</th>\n",
       "      <td>South Yarra</td>\n",
       "      <td>AU</td>\n",
       "      <td>VIC</td>\n",
       "      <td>Victoria</td>\n",
       "      <td>Australia</td>\n",
       "    </tr>\n",
       "    <tr>\n",
       "      <th>1</th>\n",
       "      <td>Grand Prairie</td>\n",
       "      <td>US</td>\n",
       "      <td>TX</td>\n",
       "      <td>Texas</td>\n",
       "      <td>United States</td>\n",
       "    </tr>\n",
       "    <tr>\n",
       "      <th>2</th>\n",
       "      <td>Kongens Lyngby</td>\n",
       "      <td>DK</td>\n",
       "      <td>84</td>\n",
       "      <td>Hovedstaden</td>\n",
       "      <td>Denmark</td>\n",
       "    </tr>\n",
       "    <tr>\n",
       "      <th>3</th>\n",
       "      <td>Blackburn</td>\n",
       "      <td>GB</td>\n",
       "      <td>BBD</td>\n",
       "      <td>Blackburn with Darwen</td>\n",
       "      <td>United Kingdom</td>\n",
       "    </tr>\n",
       "    <tr>\n",
       "      <th>4</th>\n",
       "      <td>Walsall</td>\n",
       "      <td>GB</td>\n",
       "      <td>WLL</td>\n",
       "      <td>Walsall</td>\n",
       "      <td>United Kingdom</td>\n",
       "    </tr>\n",
       "  </tbody>\n",
       "</table>\n",
       "</div>"
      ],
      "text/plain": [
       "             city country region           human_region   human_country\n",
       "0     South Yarra      AU    VIC               Victoria       Australia\n",
       "1   Grand Prairie      US     TX                  Texas   United States\n",
       "2  Kongens Lyngby      DK     84            Hovedstaden         Denmark\n",
       "3       Blackburn      GB    BBD  Blackburn with Darwen  United Kingdom\n",
       "4         Walsall      GB    WLL                Walsall  United Kingdom"
      ]
     },
     "execution_count": 6,
     "metadata": {},
     "output_type": "execute_result"
    }
   ],
   "source": [
    "spotify_cities = spotify_cities[['city', 'country', 'region', 'human_region', 'Name']]\n",
    "spotify_cities = spotify_cities.rename(columns={\"Name\": \"human_country\"})\n",
    "spotify_cities.head()"
   ]
  },
  {
   "cell_type": "code",
   "execution_count": 7,
   "metadata": {},
   "outputs": [],
   "source": [
    "spotify = spotify_cities.merge(world_cities, left_on=['country', 'human_region', 'city'], right_on=['iso2', 'admin_name', 'city'], how='left')"
   ]
  },
  {
   "cell_type": "code",
   "execution_count": 8,
   "metadata": {
    "scrolled": true
   },
   "outputs": [],
   "source": [
    "spotify = spotify[['city', 'country_x', 'region', 'human_region', 'human_country', 'population', 'lat', 'lng']]\n",
    "spotify = spotify.rename(columns={\"country_x\": \"country\"})"
   ]
  },
  {
   "cell_type": "code",
   "execution_count": 9,
   "metadata": {},
   "outputs": [
    {
     "data": {
      "text/html": [
       "<div>\n",
       "<style scoped>\n",
       "    .dataframe tbody tr th:only-of-type {\n",
       "        vertical-align: middle;\n",
       "    }\n",
       "\n",
       "    .dataframe tbody tr th {\n",
       "        vertical-align: top;\n",
       "    }\n",
       "\n",
       "    .dataframe thead th {\n",
       "        text-align: right;\n",
       "    }\n",
       "</style>\n",
       "<table border=\"1\" class=\"dataframe\">\n",
       "  <thead>\n",
       "    <tr style=\"text-align: right;\">\n",
       "      <th></th>\n",
       "      <th>city</th>\n",
       "      <th>country</th>\n",
       "      <th>region</th>\n",
       "      <th>human_region</th>\n",
       "      <th>human_country</th>\n",
       "      <th>population</th>\n",
       "      <th>lat</th>\n",
       "      <th>lng</th>\n",
       "    </tr>\n",
       "  </thead>\n",
       "  <tbody>\n",
       "    <tr>\n",
       "      <th>0</th>\n",
       "      <td>South Yarra</td>\n",
       "      <td>AU</td>\n",
       "      <td>VIC</td>\n",
       "      <td>Victoria</td>\n",
       "      <td>Australia</td>\n",
       "      <td>NaN</td>\n",
       "      <td>NaN</td>\n",
       "      <td>NaN</td>\n",
       "    </tr>\n",
       "    <tr>\n",
       "      <th>1</th>\n",
       "      <td>Grand Prairie</td>\n",
       "      <td>US</td>\n",
       "      <td>TX</td>\n",
       "      <td>Texas</td>\n",
       "      <td>United States</td>\n",
       "      <td>193837.0</td>\n",
       "      <td>32.687</td>\n",
       "      <td>-97.0209</td>\n",
       "    </tr>\n",
       "    <tr>\n",
       "      <th>2</th>\n",
       "      <td>Kongens Lyngby</td>\n",
       "      <td>DK</td>\n",
       "      <td>84</td>\n",
       "      <td>Hovedstaden</td>\n",
       "      <td>Denmark</td>\n",
       "      <td>NaN</td>\n",
       "      <td>NaN</td>\n",
       "      <td>NaN</td>\n",
       "    </tr>\n",
       "    <tr>\n",
       "      <th>3</th>\n",
       "      <td>Blackburn</td>\n",
       "      <td>GB</td>\n",
       "      <td>BBD</td>\n",
       "      <td>Blackburn with Darwen</td>\n",
       "      <td>United Kingdom</td>\n",
       "      <td>NaN</td>\n",
       "      <td>53.750</td>\n",
       "      <td>-2.4833</td>\n",
       "    </tr>\n",
       "    <tr>\n",
       "      <th>4</th>\n",
       "      <td>Walsall</td>\n",
       "      <td>GB</td>\n",
       "      <td>WLL</td>\n",
       "      <td>Walsall</td>\n",
       "      <td>United Kingdom</td>\n",
       "      <td>NaN</td>\n",
       "      <td>52.600</td>\n",
       "      <td>-2.0000</td>\n",
       "    </tr>\n",
       "  </tbody>\n",
       "</table>\n",
       "</div>"
      ],
      "text/plain": [
       "             city country region           human_region   human_country  \\\n",
       "0     South Yarra      AU    VIC               Victoria       Australia   \n",
       "1   Grand Prairie      US     TX                  Texas   United States   \n",
       "2  Kongens Lyngby      DK     84            Hovedstaden         Denmark   \n",
       "3       Blackburn      GB    BBD  Blackburn with Darwen  United Kingdom   \n",
       "4         Walsall      GB    WLL                Walsall  United Kingdom   \n",
       "\n",
       "   population     lat      lng  \n",
       "0         NaN     NaN      NaN  \n",
       "1    193837.0  32.687 -97.0209  \n",
       "2         NaN     NaN      NaN  \n",
       "3         NaN  53.750  -2.4833  \n",
       "4         NaN  52.600  -2.0000  "
      ]
     },
     "execution_count": 9,
     "metadata": {},
     "output_type": "execute_result"
    }
   ],
   "source": [
    "spotify.head()"
   ]
  },
  {
   "cell_type": "code",
   "execution_count": 10,
   "metadata": {},
   "outputs": [],
   "source": [
    "# Matched — coordinates and population found\n",
    "unmatched = spotify[spotify.lat.isnull()]\n",
    "matched = spotify[~spotify.lat.isnull()]"
   ]
  },
  {
   "cell_type": "code",
   "execution_count": 11,
   "metadata": {},
   "outputs": [
    {
     "name": "stdout",
     "output_type": "stream",
     "text": [
      "(2684, 8)\n",
      "(1540, 8)\n"
     ]
    }
   ],
   "source": [
    "print(unmatched.shape)\n",
    "print(matched.shape)\n",
    "unmatched = unmatched[['city', 'country', 'region', 'human_region', 'human_country']]"
   ]
  },
  {
   "cell_type": "code",
   "execution_count": 12,
   "metadata": {},
   "outputs": [
    {
     "data": {
      "text/html": [
       "<div>\n",
       "<style scoped>\n",
       "    .dataframe tbody tr th:only-of-type {\n",
       "        vertical-align: middle;\n",
       "    }\n",
       "\n",
       "    .dataframe tbody tr th {\n",
       "        vertical-align: top;\n",
       "    }\n",
       "\n",
       "    .dataframe thead th {\n",
       "        text-align: right;\n",
       "    }\n",
       "</style>\n",
       "<table border=\"1\" class=\"dataframe\">\n",
       "  <thead>\n",
       "    <tr style=\"text-align: right;\">\n",
       "      <th></th>\n",
       "      <th>Country</th>\n",
       "      <th>AccentCity</th>\n",
       "      <th>Population</th>\n",
       "      <th>Latitude</th>\n",
       "      <th>Longitude</th>\n",
       "      <th>ctr</th>\n",
       "    </tr>\n",
       "  </thead>\n",
       "  <tbody>\n",
       "    <tr>\n",
       "      <th>0</th>\n",
       "      <td>tr</td>\n",
       "      <td>Tepeagzi</td>\n",
       "      <td>NaN</td>\n",
       "      <td>40.920404</td>\n",
       "      <td>39.192090</td>\n",
       "      <td>TR</td>\n",
       "    </tr>\n",
       "    <tr>\n",
       "      <th>1</th>\n",
       "      <td>tr</td>\n",
       "      <td>Yucepinar</td>\n",
       "      <td>NaN</td>\n",
       "      <td>40.246859</td>\n",
       "      <td>35.514880</td>\n",
       "      <td>TR</td>\n",
       "    </tr>\n",
       "    <tr>\n",
       "      <th>2</th>\n",
       "      <td>ua</td>\n",
       "      <td>Zmiyivka</td>\n",
       "      <td>NaN</td>\n",
       "      <td>46.867656</td>\n",
       "      <td>33.583913</td>\n",
       "      <td>UA</td>\n",
       "    </tr>\n",
       "    <tr>\n",
       "      <th>3</th>\n",
       "      <td>ua</td>\n",
       "      <td>Belka</td>\n",
       "      <td>NaN</td>\n",
       "      <td>50.523429</td>\n",
       "      <td>29.461285</td>\n",
       "      <td>UA</td>\n",
       "    </tr>\n",
       "    <tr>\n",
       "      <th>4</th>\n",
       "      <td>us</td>\n",
       "      <td>Lost Creek</td>\n",
       "      <td>NaN</td>\n",
       "      <td>37.481667</td>\n",
       "      <td>-83.325278</td>\n",
       "      <td>US</td>\n",
       "    </tr>\n",
       "  </tbody>\n",
       "</table>\n",
       "</div>"
      ],
      "text/plain": [
       "  Country  AccentCity  Population   Latitude  Longitude ctr\n",
       "0      tr    Tepeagzi         NaN  40.920404  39.192090  TR\n",
       "1      tr   Yucepinar         NaN  40.246859  35.514880  TR\n",
       "2      ua    Zmiyivka         NaN  46.867656  33.583913  UA\n",
       "3      ua       Belka         NaN  50.523429  29.461285  UA\n",
       "4      us  Lost Creek         NaN  37.481667 -83.325278  US"
      ]
     },
     "execution_count": 12,
     "metadata": {},
     "output_type": "execute_result"
    }
   ],
   "source": [
    "world_pop = world_pop[['Country', 'AccentCity', 'Population', 'Latitude', 'Longitude']]\n",
    "world_pop['ctr'] = world_pop['Country'].str.upper()\n",
    "world_pop.head()"
   ]
  },
  {
   "cell_type": "code",
   "execution_count": 13,
   "metadata": {},
   "outputs": [
    {
     "data": {
      "text/html": [
       "<div>\n",
       "<style scoped>\n",
       "    .dataframe tbody tr th:only-of-type {\n",
       "        vertical-align: middle;\n",
       "    }\n",
       "\n",
       "    .dataframe tbody tr th {\n",
       "        vertical-align: top;\n",
       "    }\n",
       "\n",
       "    .dataframe thead th {\n",
       "        text-align: right;\n",
       "    }\n",
       "</style>\n",
       "<table border=\"1\" class=\"dataframe\">\n",
       "  <thead>\n",
       "    <tr style=\"text-align: right;\">\n",
       "      <th></th>\n",
       "      <th>city</th>\n",
       "      <th>country</th>\n",
       "      <th>region</th>\n",
       "      <th>human_region</th>\n",
       "      <th>human_country</th>\n",
       "      <th>Country</th>\n",
       "      <th>AccentCity</th>\n",
       "      <th>Population</th>\n",
       "      <th>Latitude</th>\n",
       "      <th>Longitude</th>\n",
       "      <th>ctr</th>\n",
       "    </tr>\n",
       "  </thead>\n",
       "  <tbody>\n",
       "    <tr>\n",
       "      <th>0</th>\n",
       "      <td>South Yarra</td>\n",
       "      <td>AU</td>\n",
       "      <td>VIC</td>\n",
       "      <td>Victoria</td>\n",
       "      <td>Australia</td>\n",
       "      <td>au</td>\n",
       "      <td>South Yarra</td>\n",
       "      <td>NaN</td>\n",
       "      <td>-37.833333</td>\n",
       "      <td>144.983333</td>\n",
       "      <td>AU</td>\n",
       "    </tr>\n",
       "    <tr>\n",
       "      <th>1</th>\n",
       "      <td>Kongens Lyngby</td>\n",
       "      <td>DK</td>\n",
       "      <td>84</td>\n",
       "      <td>Hovedstaden</td>\n",
       "      <td>Denmark</td>\n",
       "      <td>dk</td>\n",
       "      <td>Kongens Lyngby</td>\n",
       "      <td>NaN</td>\n",
       "      <td>55.771785</td>\n",
       "      <td>12.505991</td>\n",
       "      <td>DK</td>\n",
       "    </tr>\n",
       "    <tr>\n",
       "      <th>2</th>\n",
       "      <td>Lebbeke</td>\n",
       "      <td>BE</td>\n",
       "      <td>VOV</td>\n",
       "      <td>Oost-Vlaanderen</td>\n",
       "      <td>Belgium</td>\n",
       "      <td>be</td>\n",
       "      <td>Lebbeke</td>\n",
       "      <td>17372.0</td>\n",
       "      <td>51.000000</td>\n",
       "      <td>4.133333</td>\n",
       "      <td>BE</td>\n",
       "    </tr>\n",
       "    <tr>\n",
       "      <th>3</th>\n",
       "      <td>Zaventem</td>\n",
       "      <td>BE</td>\n",
       "      <td>VBR</td>\n",
       "      <td>Vlaams-Brabant</td>\n",
       "      <td>Belgium</td>\n",
       "      <td>be</td>\n",
       "      <td>Zaventem</td>\n",
       "      <td>28188.0</td>\n",
       "      <td>50.883333</td>\n",
       "      <td>4.466667</td>\n",
       "      <td>BE</td>\n",
       "    </tr>\n",
       "    <tr>\n",
       "      <th>4</th>\n",
       "      <td>Wetteren</td>\n",
       "      <td>BE</td>\n",
       "      <td>VOV</td>\n",
       "      <td>Oost-Vlaanderen</td>\n",
       "      <td>Belgium</td>\n",
       "      <td>be</td>\n",
       "      <td>Wetteren</td>\n",
       "      <td>22930.0</td>\n",
       "      <td>51.000000</td>\n",
       "      <td>3.883333</td>\n",
       "      <td>BE</td>\n",
       "    </tr>\n",
       "  </tbody>\n",
       "</table>\n",
       "</div>"
      ],
      "text/plain": [
       "             city country region     human_region human_country Country  \\\n",
       "0     South Yarra      AU    VIC         Victoria     Australia      au   \n",
       "1  Kongens Lyngby      DK     84      Hovedstaden       Denmark      dk   \n",
       "2         Lebbeke      BE    VOV  Oost-Vlaanderen       Belgium      be   \n",
       "3        Zaventem      BE    VBR   Vlaams-Brabant       Belgium      be   \n",
       "4        Wetteren      BE    VOV  Oost-Vlaanderen       Belgium      be   \n",
       "\n",
       "       AccentCity  Population   Latitude   Longitude ctr  \n",
       "0     South Yarra         NaN -37.833333  144.983333  AU  \n",
       "1  Kongens Lyngby         NaN  55.771785   12.505991  DK  \n",
       "2         Lebbeke     17372.0  51.000000    4.133333  BE  \n",
       "3        Zaventem     28188.0  50.883333    4.466667  BE  \n",
       "4        Wetteren     22930.0  51.000000    3.883333  BE  "
      ]
     },
     "execution_count": 13,
     "metadata": {},
     "output_type": "execute_result"
    }
   ],
   "source": [
    "with_duplicates = unmatched.merge(world_pop, left_on=['country', 'city'], right_on=['ctr', 'AccentCity'], how='left')\n",
    "with_duplicates.head()"
   ]
  },
  {
   "cell_type": "code",
   "execution_count": 14,
   "metadata": {},
   "outputs": [],
   "source": [
    "with_duplicates = with_duplicates[['city', 'country', 'region', 'human_region', 'human_country', 'Population', 'Latitude', 'Longitude']]\n",
    "with_duplicates = with_duplicates.rename(columns={\"Population\": \"population\", \"Latitude\": \"lat\", \"Longitude\": \"lng\"})"
   ]
  },
  {
   "cell_type": "code",
   "execution_count": 15,
   "metadata": {},
   "outputs": [
    {
     "data": {
      "text/html": [
       "<div>\n",
       "<style scoped>\n",
       "    .dataframe tbody tr th:only-of-type {\n",
       "        vertical-align: middle;\n",
       "    }\n",
       "\n",
       "    .dataframe tbody tr th {\n",
       "        vertical-align: top;\n",
       "    }\n",
       "\n",
       "    .dataframe thead th {\n",
       "        text-align: right;\n",
       "    }\n",
       "</style>\n",
       "<table border=\"1\" class=\"dataframe\">\n",
       "  <thead>\n",
       "    <tr style=\"text-align: right;\">\n",
       "      <th></th>\n",
       "      <th>city</th>\n",
       "      <th>country</th>\n",
       "      <th>region</th>\n",
       "      <th>human_region</th>\n",
       "      <th>human_country</th>\n",
       "      <th>population</th>\n",
       "      <th>lat</th>\n",
       "      <th>lng</th>\n",
       "    </tr>\n",
       "  </thead>\n",
       "  <tbody>\n",
       "    <tr>\n",
       "      <th>0</th>\n",
       "      <td>South Yarra</td>\n",
       "      <td>AU</td>\n",
       "      <td>VIC</td>\n",
       "      <td>Victoria</td>\n",
       "      <td>Australia</td>\n",
       "      <td>NaN</td>\n",
       "      <td>-37.833333</td>\n",
       "      <td>144.983333</td>\n",
       "    </tr>\n",
       "    <tr>\n",
       "      <th>1</th>\n",
       "      <td>Kongens Lyngby</td>\n",
       "      <td>DK</td>\n",
       "      <td>84</td>\n",
       "      <td>Hovedstaden</td>\n",
       "      <td>Denmark</td>\n",
       "      <td>NaN</td>\n",
       "      <td>55.771785</td>\n",
       "      <td>12.505991</td>\n",
       "    </tr>\n",
       "    <tr>\n",
       "      <th>2</th>\n",
       "      <td>Lebbeke</td>\n",
       "      <td>BE</td>\n",
       "      <td>VOV</td>\n",
       "      <td>Oost-Vlaanderen</td>\n",
       "      <td>Belgium</td>\n",
       "      <td>17372.0</td>\n",
       "      <td>51.000000</td>\n",
       "      <td>4.133333</td>\n",
       "    </tr>\n",
       "    <tr>\n",
       "      <th>3</th>\n",
       "      <td>Zaventem</td>\n",
       "      <td>BE</td>\n",
       "      <td>VBR</td>\n",
       "      <td>Vlaams-Brabant</td>\n",
       "      <td>Belgium</td>\n",
       "      <td>28188.0</td>\n",
       "      <td>50.883333</td>\n",
       "      <td>4.466667</td>\n",
       "    </tr>\n",
       "    <tr>\n",
       "      <th>4</th>\n",
       "      <td>Wetteren</td>\n",
       "      <td>BE</td>\n",
       "      <td>VOV</td>\n",
       "      <td>Oost-Vlaanderen</td>\n",
       "      <td>Belgium</td>\n",
       "      <td>22930.0</td>\n",
       "      <td>51.000000</td>\n",
       "      <td>3.883333</td>\n",
       "    </tr>\n",
       "  </tbody>\n",
       "</table>\n",
       "</div>"
      ],
      "text/plain": [
       "             city country region     human_region human_country  population  \\\n",
       "0     South Yarra      AU    VIC         Victoria     Australia         NaN   \n",
       "1  Kongens Lyngby      DK     84      Hovedstaden       Denmark         NaN   \n",
       "2         Lebbeke      BE    VOV  Oost-Vlaanderen       Belgium     17372.0   \n",
       "3        Zaventem      BE    VBR   Vlaams-Brabant       Belgium     28188.0   \n",
       "4        Wetteren      BE    VOV  Oost-Vlaanderen       Belgium     22930.0   \n",
       "\n",
       "         lat         lng  \n",
       "0 -37.833333  144.983333  \n",
       "1  55.771785   12.505991  \n",
       "2  51.000000    4.133333  \n",
       "3  50.883333    4.466667  \n",
       "4  51.000000    3.883333  "
      ]
     },
     "execution_count": 15,
     "metadata": {},
     "output_type": "execute_result"
    }
   ],
   "source": [
    "with_duplicates.head()"
   ]
  },
  {
   "cell_type": "code",
   "execution_count": 16,
   "metadata": {},
   "outputs": [],
   "source": [
    "uniqs = with_duplicates[~with_duplicates.duplicated(subset=['country', 'region', 'city'], keep=False)]"
   ]
  },
  {
   "cell_type": "code",
   "execution_count": 17,
   "metadata": {},
   "outputs": [],
   "source": [
    "uniqs_matched = uniqs[~uniqs.lat.isnull()]"
   ]
  },
  {
   "cell_type": "code",
   "execution_count": 18,
   "metadata": {},
   "outputs": [
    {
     "data": {
      "text/plain": [
       "(1609, 8)"
      ]
     },
     "execution_count": 18,
     "metadata": {},
     "output_type": "execute_result"
    }
   ],
   "source": [
    "uniqs_matched.shape"
   ]
  },
  {
   "cell_type": "code",
   "execution_count": 19,
   "metadata": {},
   "outputs": [],
   "source": [
    "dups = with_duplicates[with_duplicates.duplicated(subset=['country', 'region', 'city'], keep=False)]"
   ]
  },
  {
   "cell_type": "code",
   "execution_count": 20,
   "metadata": {},
   "outputs": [],
   "source": [
    "unduped = dups.sort_values(['city', 'country', 'region', 'population'])"
   ]
  },
  {
   "cell_type": "code",
   "execution_count": 21,
   "metadata": {},
   "outputs": [],
   "source": [
    "unduped = unduped.drop_duplicates(subset=['country', 'region', 'city'])"
   ]
  },
  {
   "cell_type": "code",
   "execution_count": 23,
   "metadata": {},
   "outputs": [],
   "source": [
    "mega = pd.concat([matched, uniqs_matched, unduped])"
   ]
  },
  {
   "cell_type": "code",
   "execution_count": 39,
   "metadata": {
    "scrolled": true
   },
   "outputs": [
    {
     "data": {
      "text/plain": [
       "city             797\n",
       "country          797\n",
       "region           794\n",
       "human_region     794\n",
       "human_country    797\n",
       "population         0\n",
       "lat              797\n",
       "lng              797\n",
       "dtype: int64"
      ]
     },
     "execution_count": 39,
     "metadata": {},
     "output_type": "execute_result"
    }
   ],
   "source": [
    "no_pop = mega[mega.population.isnull()]\n",
    "no_pop.count()"
   ]
  },
  {
   "cell_type": "code",
   "execution_count": 40,
   "metadata": {
    "scrolled": true
   },
   "outputs": [],
   "source": [
    "yes_pop = no_pop.merge(geonames, left_on=['city', 'country'], right_on=['Name', 'Country Code'])\n",
    "yes_pop = yes_pop[['city', 'country', 'region', 'human_region', 'human_country', 'Population', 'lat', 'lng']]\n",
    "yes_pop = yes_pop.rename(columns={\"Population\": \"population\"})"
   ]
  },
  {
   "cell_type": "code",
   "execution_count": 51,
   "metadata": {},
   "outputs": [
    {
     "data": {
      "text/plain": [
       "(463, 8)"
      ]
     },
     "execution_count": 51,
     "metadata": {},
     "output_type": "execute_result"
    }
   ],
   "source": [
    "yes_pop_sorted = yes_pop.sort_values(['city', 'country', 'region', 'population'], ascending=False)\n",
    "yes_pop_unduped = yes_pop_sorted.drop_duplicates(subset=['country', 'region', 'city'])\n",
    "yes_pop_unduped.shape"
   ]
  },
  {
   "cell_type": "code",
   "execution_count": 52,
   "metadata": {},
   "outputs": [
    {
     "data": {
      "text/plain": [
       "(2851, 8)"
      ]
     },
     "execution_count": 52,
     "metadata": {},
     "output_type": "execute_result"
    }
   ],
   "source": [
    "mega_pop = mega[~mega.population.isnull()]\n",
    "mega_pop.shape"
   ]
  },
  {
   "cell_type": "code",
   "execution_count": 53,
   "metadata": {},
   "outputs": [],
   "source": [
    "final = pd.concat([mega_pop, yes_pop_unduped], ignore_index=True)"
   ]
  },
  {
   "cell_type": "code",
   "execution_count": 57,
   "metadata": {},
   "outputs": [],
   "source": [
    "final = final.append({'city': 'Hong Kong', 'country': 'HK', 'region': '', 'human_region': '', 'human_country': 'Hong Kong', 'population': 7392000, 'lat':22.321542, 'lng':114.173011}, ignore_index=True, sort=False)\n",
    "final = final.append({'city': 'Singapore', 'country': 'SG', 'region': '', 'human_region': '', 'human_country': 'Singapore', 'population': 5612000, 'lat':1.295121, 'lng':103.836695}, ignore_index=True, sort=False)"
   ]
  },
  {
   "cell_type": "code",
   "execution_count": 60,
   "metadata": {},
   "outputs": [],
   "source": [
    "final = final.astype({'population': 'int32'})"
   ]
  },
  {
   "cell_type": "code",
   "execution_count": 71,
   "metadata": {},
   "outputs": [],
   "source": [
    "final = final[final.population != 0]\n",
    "final.index = np.arange(1, len(final) + 1)"
   ]
  },
  {
   "cell_type": "code",
   "execution_count": 77,
   "metadata": {},
   "outputs": [],
   "source": [
    "final['coord'] = final.apply(lambda r: \"SRID=4326;Point(\" + str(r.lng) + \" \" + str(r.lat) + \")\", axis=1)"
   ]
  },
  {
   "cell_type": "code",
   "execution_count": 78,
   "metadata": {},
   "outputs": [
    {
     "data": {
      "text/html": [
       "<div>\n",
       "<style scoped>\n",
       "    .dataframe tbody tr th:only-of-type {\n",
       "        vertical-align: middle;\n",
       "    }\n",
       "\n",
       "    .dataframe tbody tr th {\n",
       "        vertical-align: top;\n",
       "    }\n",
       "\n",
       "    .dataframe thead th {\n",
       "        text-align: right;\n",
       "    }\n",
       "</style>\n",
       "<table border=\"1\" class=\"dataframe\">\n",
       "  <thead>\n",
       "    <tr style=\"text-align: right;\">\n",
       "      <th></th>\n",
       "      <th>city</th>\n",
       "      <th>country</th>\n",
       "      <th>region</th>\n",
       "      <th>human_region</th>\n",
       "      <th>human_country</th>\n",
       "      <th>population</th>\n",
       "      <th>lat</th>\n",
       "      <th>lng</th>\n",
       "      <th>coord</th>\n",
       "    </tr>\n",
       "  </thead>\n",
       "  <tbody>\n",
       "    <tr>\n",
       "      <th>1</th>\n",
       "      <td>Grand Prairie</td>\n",
       "      <td>US</td>\n",
       "      <td>TX</td>\n",
       "      <td>Texas</td>\n",
       "      <td>United States</td>\n",
       "      <td>193837</td>\n",
       "      <td>32.6870</td>\n",
       "      <td>-97.0209</td>\n",
       "      <td>SRID=4326;Point(-97.0209 32.687)</td>\n",
       "    </tr>\n",
       "    <tr>\n",
       "      <th>2</th>\n",
       "      <td>Columbus</td>\n",
       "      <td>US</td>\n",
       "      <td>GA</td>\n",
       "      <td>Georgia</td>\n",
       "      <td>United States</td>\n",
       "      <td>259160</td>\n",
       "      <td>32.5100</td>\n",
       "      <td>-84.8771</td>\n",
       "      <td>SRID=4326;Point(-84.8771 32.51)</td>\n",
       "    </tr>\n",
       "    <tr>\n",
       "      <th>3</th>\n",
       "      <td>Tarija</td>\n",
       "      <td>BO</td>\n",
       "      <td>T</td>\n",
       "      <td>Tarija</td>\n",
       "      <td>Bolivia, Plurinational State of</td>\n",
       "      <td>159269</td>\n",
       "      <td>-21.5167</td>\n",
       "      <td>-64.7500</td>\n",
       "      <td>SRID=4326;Point(-64.75 -21.5167)</td>\n",
       "    </tr>\n",
       "    <tr>\n",
       "      <th>4</th>\n",
       "      <td>Sucre</td>\n",
       "      <td>BO</td>\n",
       "      <td>H</td>\n",
       "      <td>Chuquisaca</td>\n",
       "      <td>Bolivia, Plurinational State of</td>\n",
       "      <td>224838</td>\n",
       "      <td>-19.0410</td>\n",
       "      <td>-65.2595</td>\n",
       "      <td>SRID=4326;Point(-65.2595 -19.041)</td>\n",
       "    </tr>\n",
       "    <tr>\n",
       "      <th>5</th>\n",
       "      <td>Oruro</td>\n",
       "      <td>BO</td>\n",
       "      <td>O</td>\n",
       "      <td>Oruro</td>\n",
       "      <td>Bolivia, Plurinational State of</td>\n",
       "      <td>246501</td>\n",
       "      <td>-17.9800</td>\n",
       "      <td>-67.1300</td>\n",
       "      <td>SRID=4326;Point(-67.13 -17.98)</td>\n",
       "    </tr>\n",
       "  </tbody>\n",
       "</table>\n",
       "</div>"
      ],
      "text/plain": [
       "            city country region human_region                    human_country  \\\n",
       "1  Grand Prairie      US     TX        Texas                    United States   \n",
       "2       Columbus      US     GA      Georgia                    United States   \n",
       "3         Tarija      BO      T       Tarija  Bolivia, Plurinational State of   \n",
       "4          Sucre      BO      H   Chuquisaca  Bolivia, Plurinational State of   \n",
       "5          Oruro      BO      O        Oruro  Bolivia, Plurinational State of   \n",
       "\n",
       "   population      lat      lng                              coord  \n",
       "1      193837  32.6870 -97.0209   SRID=4326;Point(-97.0209 32.687)  \n",
       "2      259160  32.5100 -84.8771    SRID=4326;Point(-84.8771 32.51)  \n",
       "3      159269 -21.5167 -64.7500   SRID=4326;Point(-64.75 -21.5167)  \n",
       "4      224838 -19.0410 -65.2595  SRID=4326;Point(-65.2595 -19.041)  \n",
       "5      246501 -17.9800 -67.1300     SRID=4326;Point(-67.13 -17.98)  "
      ]
     },
     "execution_count": 78,
     "metadata": {},
     "output_type": "execute_result"
    }
   ],
   "source": [
    "final.head()"
   ]
  },
  {
   "cell_type": "code",
   "execution_count": 80,
   "metadata": {},
   "outputs": [],
   "source": [
    "final[['city', 'region', 'country', 'human_region', 'human_country', 'population', 'coord']].to_csv('final_cities.csv')"
   ]
  }
 ],
 "metadata": {
  "kernelspec": {
   "display_name": "Python 3",
   "language": "python",
   "name": "python3"
  },
  "language_info": {
   "codemirror_mode": {
    "name": "ipython",
    "version": 3
   },
   "file_extension": ".py",
   "mimetype": "text/x-python",
   "name": "python",
   "nbconvert_exporter": "python",
   "pygments_lexer": "ipython3",
   "version": "3.7.6"
  }
 },
 "nbformat": 4,
 "nbformat_minor": 2
}
